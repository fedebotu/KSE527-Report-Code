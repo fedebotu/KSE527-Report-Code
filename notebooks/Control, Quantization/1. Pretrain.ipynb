{
 "cells": [
  {
   "cell_type": "markdown",
   "metadata": {},
   "source": [
    "## Pretrain single model"
   ]
  },
  {
   "cell_type": "code",
   "execution_count": 34,
   "metadata": {},
   "outputs": [
    {
     "name": "stdout",
     "output_type": "stream",
     "text": [
      "The autoreload extension is already loaded. To reload it, use:\n",
      "  %reload_ext autoreload\n"
     ]
    }
   ],
   "source": [
    "%load_ext autoreload\n",
    "%autoreload 2\n",
    "\n",
    "\n",
    "import sys; sys.path.append(2*'../')\n",
    "\n",
    "import torch\n",
    "import torch.nn as nn\n",
    "from pathlib import Path\n",
    "import wandb\n",
    "from torchdyn.numerics import odeint\n",
    "from tqdm.auto import tqdm\n",
    "\n",
    "from math import pi as π\n",
    "\n",
    "from kse527.systems.rendering.cartpole import CartPoleRendering\n",
    "from kse527.control.cost import IntegralCost\n",
    "from kse527.models.activations.snake import Snake\n",
    "from kse527.tasks.default import DynamicSystemLearner\n",
    "from notebooks.mpc.mpc import TorchMPC\n",
    "from notebooks.mpc.utils_mpc import CartPole, CartpoleIntegralCost, BoxConstrainedController, RandConstController\n",
    "from notebooks.mpc.utils import NeuralModelWrapper\n"
   ]
  },
  {
   "cell_type": "markdown",
   "metadata": {},
   "source": [
    "## Hyperparameters"
   ]
  },
  {
   "cell_type": "code",
   "execution_count": 43,
   "metadata": {},
   "outputs": [],
   "source": [
    "device = torch.device('cpu')\n",
    "\n",
    "# Initial distribution of states and controller\n",
    "x0 = 2*π # limit of the state distribution (in rads and rads/second)\n",
    "init_dist = torch.distributions.Uniform(torch.Tensor([-x0, -x0, -x0, -x0]), torch.Tensor([x0, x0, x0, x0]))\n",
    "u_min, u_max = -30, 30\n",
    "\n",
    "# Build model via wrapper\n",
    "# Here you can change activation functions, dimensions, activations, quantization etc\n",
    "hdim = 32\n",
    "inner_nn = nn.Sequential(nn.Linear(5, hdim), Snake(hdim), nn.Linear(hdim, hdim), Snake(hdim), nn.Linear(hdim, 4))\n",
    "opt = torch.optim.Adam(inner_nn.parameters(), lr=1e-2)\n",
    "scheduler = torch.optim.lr_scheduler.MultiStepLR(opt, milestones=[5000, 10000, 15000], gamma=0.5)# dont use for few epochs. 20000 seem to be ok\n",
    "model_nn = NeuralModelWrapper(inner_nn, RandConstController())\n",
    "\n",
    "\n",
    "# Hyperparams\n",
    "loss_func = nn.MSELoss()\n",
    "epochs = 20000\n",
    "bs = 128\n",
    "dt = 0.02\n",
    "span = torch.linspace(0, dt, 2)\n",
    "losses = []\n",
    "\n",
    "# Nominal system\n",
    "sys_nominal = CartPole(u=RandConstController())"
   ]
  },
  {
   "cell_type": "markdown",
   "metadata": {},
   "source": [
    "## Main training loop\n",
    "\n",
    "Each epoch we sample from a distribution of controllers and states\n",
    "\n",
    "This makes the learned model more robust since it basically learns any possible combination of states and controllers\n",
    "\n",
    "--> Control is easier with this type of training"
   ]
  },
  {
   "cell_type": "code",
   "execution_count": 44,
   "metadata": {},
   "outputs": [
    {
     "data": {
      "application/vnd.jupyter.widget-view+json": {
       "model_id": "a8f502d5b872484bb2995155a7c47fa9",
       "version_major": 2,
       "version_minor": 0
      },
      "text/plain": [
       "Epochs:   0%|          | 0/20000 [00:00<?, ?it/s]"
      ]
     },
     "metadata": {},
     "output_type": "display_data"
    }
   ],
   "source": [
    "from tqdm.auto import trange\n",
    "with trange(0, epochs, desc=\"Epochs\") as stepx:\n",
    "    for i in stepx:    \n",
    "        x0 = init_dist.sample((bs,)).to(device)\n",
    "        val = torch.Tensor(bs, 1).uniform_(u_min, u_max).to(device)\n",
    "        model_nn.u.u0 = val\n",
    "        sys_nominal.u.u0 = val\n",
    "        \n",
    "        # Compute loss\n",
    "        _, sol_gt = odeint(sys_nominal.dynamics, x0, span, solver='rk4')[-1] # nominal: real system\n",
    "        sol_model = model_nn.step(0, x0) # our model \n",
    "        loss = loss_func(sol_gt, sol_model)\n",
    "\n",
    "        # Optimization step\n",
    "        loss.backward(); opt.step(); opt.zero_grad(); scheduler.step()\n",
    "        stepx.set_postfix({'Loss':loss})\n",
    "        # print(f'Step: {i}, Residual loss: {loss:.8f}', end='\\r')\n",
    "        losses.append(loss.detach().cpu().item())"
   ]
  },
  {
   "cell_type": "code",
   "execution_count": 45,
   "metadata": {},
   "outputs": [
    {
     "data": {
      "image/png": "[encoded data removed]",
      "text/plain": [
       "<Figure size 432x288 with 1 Axes>"
      ]
     },
     "metadata": {},
     "output_type": "display_data"
    }
   ],
   "source": [
    "import matplotlib.pyplot as plt\n",
    "\n",
    "plt.plot(losses)\n",
    "plt.yscale('log')"
   ]
  },
  {
   "cell_type": "code",
   "execution_count": 92,
   "metadata": {},
   "outputs": [],
   "source": [
    "# Save model\n",
    "from pathlib import Path\n",
    "path = Path('saved_models/')\n",
    "\n",
    "torch.save(model_nn.model, path / 'model_example.pt')"
   ]
  }
 ],
 "metadata": {
  "interpreter": {
   "hash": "916dbcbb3f70747c44a77c7bcd40155683ae19c65e1c03b4aa3499c5328201f1"
  },
  "kernelspec": {
   "display_name": "Python 3.10.4 64-bit",
   "language": "python",
   "name": "python3"
  },
  "language_info": {
   "codemirror_mode": {
    "name": "ipython",
    "version": 3
   },
   "file_extension": ".py",
   "mimetype": "text/x-python",
   "name": "python",
   "nbconvert_exporter": "python",
   "pygments_lexer": "ipython3",
   "version": "3.10.4"
  },
  "orig_nbformat": 4
 },
 "nbformat": 4,
 "nbformat_minor": 2
}
