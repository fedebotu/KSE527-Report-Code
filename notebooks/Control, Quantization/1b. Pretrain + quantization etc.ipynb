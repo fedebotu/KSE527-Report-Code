{
 "cells": [
  {
   "cell_type": "markdown",
   "metadata": {},
   "source": [
    "## Pretrain single model"
   ]
  },
  {
   "cell_type": "code",
   "execution_count": 1,
   "metadata": {},
   "outputs": [],
   "source": [
    "%load_ext autoreload\n",
    "%autoreload 2\n",
    "\n",
    "\n",
    "import sys; sys.path.append(2*'../')\n",
    "\n",
    "import torch\n",
    "import torch.nn as nn\n",
    "from pathlib import Path\n",
    "import wandb\n",
    "from torchdyn.numerics import odeint\n",
    "from tqdm.auto import tqdm\n",
    "\n",
    "from math import pi as π\n",
    "\n",
    "from kse527.systems.rendering.cartpole import CartPoleRendering\n",
    "from kse527.control.cost import IntegralCost\n",
    "from kse527.models.activations.snake import Snake\n",
    "from kse527.tasks.default import DynamicSystemLearner\n",
    "from notebooks.mpc.mpc import TorchMPC\n",
    "from notebooks.mpc.utils_mpc import CartPole, CartpoleIntegralCost, BoxConstrainedController, RandConstController\n",
    "from notebooks.mpc.utils import NeuralModelWrapper\n"
   ]
  },
  {
   "cell_type": "markdown",
   "metadata": {},
   "source": [
    "## Hyperparameters"
   ]
  },
  {
   "cell_type": "code",
   "execution_count": 2,
   "metadata": {},
   "outputs": [],
   "source": [
    "device = torch.device('cpu')\n",
    "\n",
    "# Initial distribution of states and controller\n",
    "x0 = 2*π # limit of the state distribution (in rads and rads/second)\n",
    "init_dist = torch.distributions.Uniform(torch.Tensor([-x0, -x0, -x0, -x0]), torch.Tensor([x0, x0, x0, x0]))\n",
    "u_min, u_max = -30, 30\n",
    "\n",
    "# Build model via wrapper\n",
    "# Here you can change activation functions, dimensions, activations, quantization etc\n",
    "hdim = 32\n",
    "inner_nn = nn.Sequential(nn.Linear(5, hdim), Snake(hdim), nn.Linear(hdim, hdim), Snake(hdim), nn.Linear(hdim, 4))\n",
    "opt = torch.optim.Adam(inner_nn.parameters(), lr=1e-2)\n",
    "scheduler = torch.optim.lr_scheduler.MultiStepLR(opt, milestones=[5000, 10000, 15000], gamma=0.5)# dont use for few epochs. 20000 seem to be ok\n",
    "model_nn = NeuralModelWrapper(inner_nn, RandConstController())\n",
    "\n",
    "\n",
    "# Hyperparams\n",
    "loss_func = nn.MSELoss()\n",
    "epochs = 20000\n",
    "bs = 128\n",
    "dt = 0.02\n",
    "span = torch.linspace(0, dt, 2)\n",
    "losses = []\n",
    "\n",
    "# Nominal system\n",
    "sys_nominal = CartPole(u=RandConstController())"
   ]
  },
  {
   "cell_type": "markdown",
   "metadata": {},
   "source": [
    "## Main training loop\n",
    "\n",
    "Each epoch we sample from a distribution of controllers and states\n",
    "\n",
    "This makes the learned model more robust since it basically learns any possible combination of states and controllers\n",
    "\n",
    "--> Control is easier with this type of training"
   ]
  },
  {
   "cell_type": "code",
   "execution_count": 3,
   "metadata": {},
   "outputs": [
    {
     "data": {
      "application/vnd.jupyter.widget-view+json": {
       "model_id": "7aceb3e833cb4023a4de09400ae4730f",
       "version_major": 2,
       "version_minor": 0
      },
      "text/plain": [
       "Epochs:   0%|          | 0/20000 [00:00<?, ?it/s]"
      ]
     },
     "metadata": {},
     "output_type": "display_data"
    }
   ],
   "source": [
    "from tqdm.auto import trange\n",
    "with trange(0, epochs, desc=\"Epochs\") as stepx:\n",
    "    for i in stepx:    \n",
    "        x0 = init_dist.sample((bs,)).to(device)\n",
    "        val = torch.Tensor(bs, 1).uniform_(u_min, u_max).to(device)\n",
    "        model_nn.u.u0 = val\n",
    "        sys_nominal.u.u0 = val\n",
    "        \n",
    "        # Compute loss\n",
    "        _, sol_gt = odeint(sys_nominal.dynamics, x0, span, solver='rk4')[-1] # nominal: real system\n",
    "        sol_model = model_nn.step(0, x0) # our model \n",
    "        loss = loss_func(sol_gt, sol_model)\n",
    "\n",
    "        # Optimization step\n",
    "        loss.backward(); opt.step(); opt.zero_grad(); scheduler.step()\n",
    "        stepx.set_postfix({'Loss':loss})\n",
    "        # print(f'Step: {i}, Residual loss: {loss:.8f}', end='\\r')\n",
    "        losses.append(loss.detach().cpu().item())"
   ]
  },
  {
   "cell_type": "code",
   "execution_count": 4,
   "metadata": {},
   "outputs": [
    {
     "data": {
      "image/png": "[encoded data removed]",
      "text/plain": [
       "<Figure size 432x288 with 1 Axes>"
      ]
     },
     "metadata": {
      "needs_background": "light"
     },
     "output_type": "display_data"
    }
   ],
   "source": [
    "import matplotlib.pyplot as plt\n",
    "\n",
    "plt.plot(losses)\n",
    "plt.yscale('log')"
   ]
  },
  {
   "cell_type": "code",
   "execution_count": 92,
   "metadata": {},
   "outputs": [],
   "source": [
    "# Save model\n",
    "from pathlib import Path\n",
    "path = Path('saved_models/')\n",
    "\n",
    "torch.save(model_nn.model, path / 'model_example.pt')"
   ]
  },
  {
   "cell_type": "markdown",
   "metadata": {},
   "source": [
    "## Quantization"
   ]
  },
  {
   "cell_type": "code",
   "execution_count": 17,
   "metadata": {},
   "outputs": [],
   "source": [
    "from typing import Dict\n",
    "from torch._C import dtype\n",
    "\n",
    "DTYPE_BIT_SIZE: Dict[dtype, int] = {\n",
    "    torch.float32: 32,\n",
    "    torch.float: 32,\n",
    "    torch.float64: 64,\n",
    "    torch.double: 64,\n",
    "    torch.float16: 16,\n",
    "    torch.half: 16,\n",
    "    torch.bfloat16: 16,\n",
    "    # torch.complex32: 32,\n",
    "    torch.complex64: 64,\n",
    "    torch.complex128: 128,\n",
    "    torch.cdouble: 128,\n",
    "    torch.uint8: 8,\n",
    "    torch.int8: 8,\n",
    "    torch.qint8: 8,\n",
    "    torch.int16: 16,\n",
    "    torch.short: 16,\n",
    "    torch.int32: 32,\n",
    "    torch.int: 32,\n",
    "    torch.int64: 64,\n",
    "    torch.long: 64,\n",
    "    torch.bool: 1\n",
    "}"
   ]
  },
  {
   "cell_type": "code",
   "execution_count": 64,
   "metadata": {},
   "outputs": [],
   "source": [
    "from copy import deepcopy\n",
    "\n",
    "_model_fp32 = deepcopy(model_nn.model)\n",
    "\n",
    "model_fp16 = torch.quantization.quantize_dynamic(\n",
    "    deepcopy(_model_fp32),  # the original model\n",
    "    {torch.nn.Linear},  # a set of layers to dynamically quantize\n",
    "    dtype=torch.float16)  # the target dtype for quantized weights\n",
    "\n",
    "model_int8 = torch.quantization.quantize_dynamic(\n",
    "    deepcopy(_model_fp32),  # the original model\n",
    "    {torch.nn.Linear},  # a set of layers to dynamically quantize\n",
    "    dtype=torch.qint8)  # the target dtype for quantized weights\n",
    "\n",
    "\n",
    "model_nn_fp32 = deepcopy(model_nn)\n",
    "model_nn_fp16  = NeuralModelWrapper(model_fp16, RandConstController())\n",
    "model_nn_int8  = NeuralModelWrapper(model_int8, RandConstController())\n",
    "\n",
    "\n",
    "# Loss with no reduction\n",
    "loss_func = nn.MSELoss(reduction='none')\n"
   ]
  },
  {
   "cell_type": "markdown",
   "metadata": {},
   "source": [
    "### One-step errors"
   ]
  },
  {
   "cell_type": "code",
   "execution_count": 65,
   "metadata": {},
   "outputs": [],
   "source": [
    "# Sampling\n",
    "sample_size = 1000\n",
    "x0 = init_dist.sample((sample_size,)).to(device)\n",
    "val = torch.Tensor(sample_size, 1).uniform_(u_min, u_max).to(device)\n",
    "\n",
    "# Controller to each model\n",
    "model_nn_fp32.u.u0 = val\n",
    "model_nn_fp16.u.u0 = val\n",
    "model_nn_int8.u.u0 = val\n",
    "sys_nominal.u.u0 = val\n",
    "\n",
    "# Compute loss\n",
    "_, sol_gt = odeint(sys_nominal.dynamics, x0, span, solver='rk4')[-1] # nominal: real system\n",
    "sol_model_fp32 = model_nn_fp32.step(0, x0) # our model \n",
    "sol_model_fp16 = model_nn_fp16.step(0, x0) # our model \n",
    "sol_model_int8 = model_nn_int8.step(0, x0) # our model \n",
    "\n",
    "loss_fp32 = loss_func(sol_gt, sol_model_fp32)\n",
    "loss_fp16 = loss_func(sol_gt, sol_model_fp16)\n",
    "loss_int8 = loss_func(sol_gt, sol_model_int8)"
   ]
  },
  {
   "cell_type": "code",
   "execution_count": 66,
   "metadata": {},
   "outputs": [
    {
     "name": "stdout",
     "output_type": "stream",
     "text": [
      "tensor(5.4084e-05, grad_fn=<MeanBackward0>)\n",
      "tensor(5.3925e-05, grad_fn=<MeanBackward0>)\n",
      "tensor(0.0015)\n"
     ]
    }
   ],
   "source": [
    "print(loss_fp32.mean())\n",
    "print(loss_fp16.mean())\n",
    "print(loss_int8.mean())"
   ]
  },
  {
   "cell_type": "markdown",
   "metadata": {},
   "source": [
    "### Error propagation"
   ]
  },
  {
   "cell_type": "code",
   "execution_count": 78,
   "metadata": {},
   "outputs": [],
   "source": [
    "# Error propagation\n",
    "span_rollout = torch.linspace(0, 1, int(1/dt)+1)\n",
    "sample_size = 1000\n",
    "x0 = init_dist.sample((sample_size,)).to(device)\n",
    "val = torch.Tensor(sample_size, 1).uniform_(u_min/5, u_max/5).to(device)\n",
    "\n",
    "# Controller to each model\n",
    "model_nn_fp32.u.u0 = val\n",
    "model_nn_fp16.u.u0 = val\n",
    "model_nn_int8.u.u0 = val\n",
    "sys_nominal.u.u0 = val\n",
    "\n",
    "# Compute loss\n",
    "sol_gt = odeint(sys_nominal.dynamics, x0, span_rollout, solver='rk4')[1] # nominal: real system\n",
    "sol_model_fp32 = model_nn_fp32.forward(x0, span_rollout) # our model \n",
    "sol_model_fp16 = model_nn_fp16.forward(x0, span_rollout) # our model \n",
    "sol_model_int8 = model_nn_int8.forward(x0, span_rollout) # our model \n",
    "\n",
    "loss_fp32 = loss_func(sol_gt, sol_model_fp32)\n",
    "loss_fp16 = loss_func(sol_gt, sol_model_fp16)\n",
    "loss_int8 = loss_func(sol_gt, sol_model_int8)"
   ]
  },
  {
   "cell_type": "code",
   "execution_count": 79,
   "metadata": {},
   "outputs": [
    {
     "name": "stdout",
     "output_type": "stream",
     "text": [
      "tensor(0.0105, grad_fn=<MeanBackward0>)\n",
      "tensor(0.0109, grad_fn=<MeanBackward0>)\n",
      "tensor(0.5183)\n"
     ]
    }
   ],
   "source": [
    "print(loss_fp32.mean())\n",
    "print(loss_fp16.mean())\n",
    "print(loss_int8.mean())"
   ]
  },
  {
   "cell_type": "code",
   "execution_count": 89,
   "metadata": {},
   "outputs": [
    {
     "data": {
      "image/png": "[encoded data removed]",
      "text/plain": [
       "<Figure size 432x288 with 1 Axes>"
      ]
     },
     "metadata": {},
     "output_type": "display_data"
    }
   ],
   "source": [
    "# Style\n",
    "plt.rcParams.update({\n",
    "    \"text.usetex\": True,\n",
    "    \"font.family\": \"serif\",\n",
    "    \"font.serif\": [\"Palatino\"],\n",
    "    \"figure.facecolor\": \"white\"\n",
    "})\n",
    "\n",
    "fig, ax = plt.subplots(1, 1)\n",
    "\n",
    "# for i in range(len(loss_fp32)):\n",
    "    # print(i)\n",
    "ax.plot(loss_fp32[1:].detach().cpu().mean(dim=(1,2)), 'r')\n",
    "ax.plot(loss_fp16[1:].detach().cpu().mean(dim=(1,2)), 'g')\n",
    "ax.plot(loss_int8[1:].detach().cpu().mean(dim=(1,2)), 'b')\n",
    "ax.set_yscale('log')"
   ]
  },
  {
   "cell_type": "markdown",
   "metadata": {},
   "source": [
    "## Pruning\n",
    "\n",
    "\n",
    "TODO: at least we should show this since we mention it"
   ]
  },
  {
   "cell_type": "code",
   "execution_count": null,
   "metadata": {},
   "outputs": [],
   "source": [
    "# import torch.nn.utils.prune as prune\n",
    "\n",
    "\n",
    "# _model_fp32 = deepcopy(model_nn.model)\n",
    "# for name, param in _model_fp32.named_parameters():\n",
    "#     print(param)\n",
    "# prune.random_unstructured(_model_fp32, name=\"weight\", amount=0.3)\n"
   ]
  }
 ],
 "metadata": {
  "interpreter": {
   "hash": "916dbcbb3f70747c44a77c7bcd40155683ae19c65e1c03b4aa3499c5328201f1"
  },
  "kernelspec": {
   "display_name": "Python 3.10.4 64-bit",
   "language": "python",
   "name": "python3"
  },
  "language_info": {
   "codemirror_mode": {
    "name": "ipython",
    "version": 3
   },
   "file_extension": ".py",
   "mimetype": "text/x-python",
   "name": "python",
   "nbconvert_exporter": "python",
   "pygments_lexer": "ipython3",
   "version": "3.10.4"
  },
  "orig_nbformat": 4
 },
 "nbformat": 4,
 "nbformat_minor": 2
}
