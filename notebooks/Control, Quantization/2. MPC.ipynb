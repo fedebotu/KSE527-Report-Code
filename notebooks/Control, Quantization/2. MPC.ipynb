{
 "cells": [
  {
   "cell_type": "markdown",
   "metadata": {},
   "source": [
    "## Pretrain single model"
   ]
  },
  {
   "cell_type": "code",
   "execution_count": 3,
   "metadata": {},
   "outputs": [],
   "source": [
    "%load_ext autoreload\n",
    "%autoreload 2\n",
    "\n",
    "\n",
    "import sys; sys.path.append(2*'../')\n",
    "\n",
    "import torch\n",
    "import torch.nn as nn\n",
    "from pathlib import Path\n",
    "import wandb\n",
    "from torchdyn.numerics import odeint\n",
    "from tqdm.auto import tqdm\n",
    "\n",
    "from math import pi as π\n",
    "\n",
    "from kse527.systems.rendering.cartpole import CartPoleRendering\n",
    "from kse527.control.cost import IntegralCost\n",
    "from kse527.models.activations.snake import Snake\n",
    "from kse527.tasks.default import DynamicSystemLearner\n",
    "from notebooks.mpc.mpc import TorchMPC\n",
    "from notebooks.mpc.utils_mpc import CartPole, CartpoleIntegralCost, BoxConstrainedController, RandConstController\n",
    "from notebooks.mpc.utils import NeuralModelWrapper\n"
   ]
  },
  {
   "cell_type": "code",
   "execution_count": 5,
   "metadata": {},
   "outputs": [],
   "source": [
    "# Load model\n",
    "from pathlib import Path\n",
    "path = Path('saved_models/')\n",
    "\n",
    "_model = torch.load(path / 'model_example.pt')\n",
    "model_nn = NeuralModelWrapper(_model, RandConstController())"
   ]
  },
  {
   "cell_type": "markdown",
   "metadata": {},
   "source": [
    "## MPC"
   ]
  },
  {
   "cell_type": "code",
   "execution_count": 8,
   "metadata": {},
   "outputs": [],
   "source": [
    "# Change device according to your configuration\n",
    "# device = torch.device('cuda:0') if torch.cuda.is_available() else torch.device('cpu')\n",
    "device=torch.device('cpu')\n",
    "\n",
    "# Loss function declaration\n",
    "x_star = torch.Tensor([0. , 0.,  0., 0.]).to(device)\n",
    "cost_func = CartpoleIntegralCost(x_star)\n",
    "\n",
    "# Time span\n",
    "dt = 0.02 # NOTE: should be the same as before\n",
    "t0, tf = 0, 2 # initial and final time for controlling the system\n",
    "steps = int((tf - t0)/dt) + 1 # so we have a time step of 0.2s\n",
    "t_span = torch.linspace(t0, tf, steps).to(device)\n",
    "\n",
    "# Initial condition\n",
    "bs = 1\n",
    "x0 = torch.Tensor([1, 0, π, 0]).repeat(bs, 1)\n",
    "\n",
    "# Real system\n",
    "const_u = RandConstController([1, 1], -1, 1).to(device) # dummy constant controller for simulation\n",
    "real_system = CartPole(u=const_u, solver='rk4')\n",
    "\n",
    "# MPC variables\n",
    "eps_accept = 1e-1\n",
    "lookahead_steps = int(1/dt) # 2 seconds ahead # BETTER only 1 second!\n",
    "bs = 1 # we use batched training so to see more initial conditions\n",
    "steps_nom = 5 # Nominal steps to do between each MPC step\n",
    "max_iters = 30 # NOTE: the number of iterations seems to affect greatly the results, especially for higher order solvers\n",
    "lr = 3e-3 # adjust learning rate for avoiding \"underflow in dt nan\" from torchdiffeq\n",
    "weight_decay = 1e-4 # L2 regularization seems to have a major impact in training MPC!\n",
    "\n",
    "# Controller\n",
    "# Make sure boundaries are INSIDE the training region!\n",
    "u = BoxConstrainedController(4, 1, num_layers=2, constrained=True, output_scaling=torch.Tensor([-30, 30])).to(device)\n",
    "opt = torch.optim.Adam(u.parameters(), lr=lr, weight_decay=weight_decay) # optimizer\n",
    "model_nn.u = u"
   ]
  },
  {
   "cell_type": "code",
   "execution_count": 9,
   "metadata": {},
   "outputs": [
    {
     "name": "stdout",
     "output_type": "stream",
     "text": [
      "Starting simulation... Timestamp: 0.0000\n",
      "Inner-loop did not converge, last cost: 36.426 | Timestamp: 0.0200 s\n",
      "Inner-loop did not converge, last cost: 20.522 | Timestamp: 0.0400 s\n",
      "Inner-loop did not converge, last cost: 18.353 | Timestamp: 0.0600 s\n",
      "Inner-loop did not converge, last cost: 20.190 | Timestamp: 0.0800 s\n",
      "Inner-loop did not converge, last cost: 15.654 | Timestamp: 0.1000 s\n",
      "Inner-loop did not converge, last cost: 20.055 | Timestamp: 0.1200 s\n",
      "Inner-loop did not converge, last cost: 14.487 | Timestamp: 0.1400 s\n",
      "Inner-loop did not converge, last cost: 11.136 | Timestamp: 0.1600 s\n",
      "Inner-loop did not converge, last cost: 9.648 | Timestamp: 0.1800 s\n",
      "Inner-loop did not converge, last cost: 8.656 | Timestamp: 0.2000 s\n",
      "Inner-loop did not converge, last cost: 7.981 | Timestamp: 0.2200 s\n",
      "Inner-loop did not converge, last cost: 6.938 | Timestamp: 0.2400 s\n",
      "Inner-loop did not converge, last cost: 6.202 | Timestamp: 0.2600 s\n",
      "Inner-loop did not converge, last cost: 5.534 | Timestamp: 0.2800 s\n",
      "Inner-loop did not converge, last cost: 5.001 | Timestamp: 0.3000 s\n",
      "Inner-loop did not converge, last cost: 4.481 | Timestamp: 0.3200 s\n",
      "Inner-loop did not converge, last cost: 4.026 | Timestamp: 0.3400 s\n",
      "Inner-loop did not converge, last cost: 3.628 | Timestamp: 0.3600 s\n",
      "Inner-loop did not converge, last cost: 3.266 | Timestamp: 0.3800 s\n",
      "Inner-loop did not converge, last cost: 2.976 | Timestamp: 0.4000 s\n",
      "Inner-loop did not converge, last cost: 2.697 | Timestamp: 0.4200 s\n",
      "Inner-loop did not converge, last cost: 2.492 | Timestamp: 0.4400 s\n",
      "Inner-loop did not converge, last cost: 2.316 | Timestamp: 0.4600 s\n",
      "Inner-loop did not converge, last cost: 2.158 | Timestamp: 0.4800 s\n",
      "Inner-loop did not converge, last cost: 2.060 | Timestamp: 0.5000 s\n",
      "Inner-loop did not converge, last cost: 1.863 | Timestamp: 0.5200 s\n",
      "Inner-loop did not converge, last cost: 1.685 | Timestamp: 0.5400 s\n",
      "Inner-loop did not converge, last cost: 1.618 | Timestamp: 0.5600 s\n",
      "Inner-loop did not converge, last cost: 1.597 | Timestamp: 0.5800 s\n",
      "Inner-loop did not converge, last cost: 1.566 | Timestamp: 0.6000 s\n",
      "Inner-loop did not converge, last cost: 1.533 | Timestamp: 0.6200 s\n",
      "Inner-loop did not converge, last cost: 1.567 | Timestamp: 0.6400 s\n",
      "Inner-loop did not converge, last cost: 1.462 | Timestamp: 0.6600 s\n",
      "Inner-loop did not converge, last cost: 1.415 | Timestamp: 0.6800 s\n",
      "Inner-loop did not converge, last cost: 1.574 | Timestamp: 0.7000 s\n",
      "Inner-loop did not converge, last cost: 1.525 | Timestamp: 0.7200 s\n",
      "Inner-loop did not converge, last cost: 1.610 | Timestamp: 0.7400 s\n",
      "Inner-loop did not converge, last cost: 1.420 | Timestamp: 0.7600 s\n",
      "Inner-loop did not converge, last cost: 1.381 | Timestamp: 0.7800 s\n",
      "Inner-loop did not converge, last cost: 1.365 | Timestamp: 0.8000 s\n",
      "Inner-loop did not converge, last cost: 1.636 | Timestamp: 0.8200 s\n",
      "Inner-loop did not converge, last cost: 1.651 | Timestamp: 0.8400 s\n",
      "Inner-loop did not converge, last cost: 1.660 | Timestamp: 0.8600 s\n",
      "Inner-loop did not converge, last cost: 1.793 | Timestamp: 0.8800 s\n",
      "Inner-loop did not converge, last cost: 1.872 | Timestamp: 0.9000 s\n",
      "Inner-loop did not converge, last cost: 1.727 | Timestamp: 0.9200 s\n",
      "Inner-loop did not converge, last cost: 1.834 | Timestamp: 0.9400 s\n",
      "Inner-loop did not converge, last cost: 1.903 | Timestamp: 0.9600 s\n",
      "Inner-loop did not converge, last cost: 2.056 | Timestamp: 0.9800 s\n",
      "Inner-loop did not converge, last cost: 1.945 | Timestamp: 1.0000 s\n",
      "Inner-loop did not converge, last cost: 2.051 | Timestamp: 1.0200 s\n",
      "Inner-loop did not converge, last cost: 2.056 | Timestamp: 1.0400 s\n",
      "Inner-loop did not converge, last cost: 2.089 | Timestamp: 1.0600 s\n",
      "Inner-loop did not converge, last cost: 2.184 | Timestamp: 1.0800 s\n",
      "Inner-loop did not converge, last cost: 2.243 | Timestamp: 1.1000 s\n",
      "Inner-loop did not converge, last cost: 2.274 | Timestamp: 1.1200 s\n",
      "Inner-loop did not converge, last cost: 2.267 | Timestamp: 1.1400 s\n",
      "Inner-loop did not converge, last cost: 2.488 | Timestamp: 1.1600 s\n",
      "Inner-loop did not converge, last cost: 2.335 | Timestamp: 1.1800 s\n",
      "Inner-loop did not converge, last cost: 2.338 | Timestamp: 1.2000 s\n",
      "Inner-loop did not converge, last cost: 2.394 | Timestamp: 1.2200 s\n",
      "Inner-loop did not converge, last cost: 2.263 | Timestamp: 1.2400 s\n",
      "Inner-loop did not converge, last cost: 2.259 | Timestamp: 1.2600 s\n",
      "Inner-loop did not converge, last cost: 2.293 | Timestamp: 1.2800 s\n",
      "Inner-loop did not converge, last cost: 2.281 | Timestamp: 1.3000 s\n",
      "Inner-loop did not converge, last cost: 2.251 | Timestamp: 1.3200 s\n",
      "Inner-loop did not converge, last cost: 2.985 | Timestamp: 1.3400 s\n",
      "Inner-loop did not converge, last cost: 2.372 | Timestamp: 1.3600 s\n",
      "Inner-loop did not converge, last cost: 2.878 | Timestamp: 1.3800 s\n",
      "Inner-loop did not converge, last cost: 2.232 | Timestamp: 1.4000 s\n",
      "Inner-loop did not converge, last cost: 2.151 | Timestamp: 1.4200 s\n",
      "Inner-loop did not converge, last cost: 2.046 | Timestamp: 1.4400 s\n",
      "Inner-loop did not converge, last cost: 1.965 | Timestamp: 1.4600 s\n",
      "Inner-loop did not converge, last cost: 1.935 | Timestamp: 1.4800 s\n",
      "Inner-loop did not converge, last cost: 2.773 | Timestamp: 1.5000 s\n",
      "Inner-loop did not converge, last cost: 2.039 | Timestamp: 1.5200 s\n",
      "Inner-loop did not converge, last cost: 1.907 | Timestamp: 1.5400 s\n",
      "Inner-loop did not converge, last cost: 1.914 | Timestamp: 1.5600 s\n",
      "Inner-loop did not converge, last cost: 2.022 | Timestamp: 1.5800 s\n",
      "Inner-loop did not converge, last cost: 2.411 | Timestamp: 1.6000 s\n",
      "Inner-loop did not converge, last cost: 2.742 | Timestamp: 1.6200 s\n",
      "Inner-loop did not converge, last cost: 1.932 | Timestamp: 1.6400 s\n",
      "Inner-loop did not converge, last cost: 1.862 | Timestamp: 1.6600 s\n",
      "Inner-loop did not converge, last cost: 2.185 | Timestamp: 1.6800 s\n",
      "Inner-loop did not converge, last cost: 1.813 | Timestamp: 1.7000 s\n",
      "Inner-loop did not converge, last cost: 2.048 | Timestamp: 1.7200 s\n",
      "Inner-loop did not converge, last cost: 1.754 | Timestamp: 1.7400 s\n",
      "Inner-loop did not converge, last cost: 1.758 | Timestamp: 1.7600 s\n",
      "Inner-loop did not converge, last cost: 1.826 | Timestamp: 1.7800 s\n",
      "Inner-loop did not converge, last cost: 1.811 | Timestamp: 1.8000 s\n",
      "Inner-loop did not converge, last cost: 2.116 | Timestamp: 1.8200 s\n",
      "Inner-loop did not converge, last cost: 1.716 | Timestamp: 1.8400 s\n",
      "Inner-loop did not converge, last cost: 1.765 | Timestamp: 1.8600 s\n",
      "Inner-loop did not converge, last cost: 1.719 | Timestamp: 1.8800 s\n",
      "Inner-loop did not converge, last cost: 1.692 | Timestamp: 1.9000 s\n",
      "Inner-loop did not converge, last cost: 1.665 | Timestamp: 1.9200 s\n",
      "Inner-loop did not converge, last cost: 1.749 | Timestamp: 1.9400 s\n",
      "Inner-loop did not converge, last cost: 1.667 | Timestamp: 1.9600 s\n",
      "Inner-loop did not converge, last cost: 1.657 | Timestamp: 1.9800 s\n",
      "Inner-loop did not converge, last cost: 1.655 | Timestamp: 2.0000 s\n",
      "The simulation has ended!\n"
     ]
    }
   ],
   "source": [
    "# Run MPC\n",
    "\n",
    "mpc = TorchMPC(model_nn, cost_func, t_span, opt, eps_accept=eps_accept, max_g_iters=max_iters,\n",
    "            lookahead_steps=lookahead_steps, lower_bounds=None,\n",
    "            upper_bounds=None, penalties=None).to(device)\n",
    "\n",
    "loss_mpc = mpc.forward_simulation(real_system, x0, t_span, reset=False)"
   ]
  },
  {
   "cell_type": "markdown",
   "metadata": {},
   "source": [
    "## Plotting and rendering"
   ]
  },
  {
   "cell_type": "code",
   "execution_count": 10,
   "metadata": {},
   "outputs": [
    {
     "data": {
      "image/png": "[encoded data removed]",
      "text/plain": [
       "<Figure size 432x288 with 2 Axes>"
      ]
     },
     "metadata": {},
     "output_type": "display_data"
    }
   ],
   "source": [
    "import matplotlib.pyplot as plt\n",
    "\n",
    "# Style\n",
    "plt.rcParams.update({\n",
    "    \"text.usetex\": True,\n",
    "    \"font.family\": \"serif\",\n",
    "    \"font.serif\": [\"Palatino\"],\n",
    "    \"figure.facecolor\": \"white\"\n",
    "})\n",
    "\n",
    "fig, axs = plt.subplots(2,1)\n",
    "\n",
    "xlabel = 'Time [$s$]'\n",
    "trajs = [mpc.trajectory_nominal[:,0,0], mpc.trajectory_nominal[:,0,2]]\n",
    "ylabels = [r'$x~[m]$', r'$\\theta~[rad]$']\n",
    "\n",
    "\n",
    "for ax, traj, ylabel in zip(axs, trajs, ylabels):\n",
    "    ax.plot(traj)\n",
    "    ax.set_ylabel(ylabel)\n",
    "    ax.axhline(0, color='red', linestyle='-.')"
   ]
  },
  {
   "cell_type": "code",
   "execution_count": 13,
   "metadata": {},
   "outputs": [],
   "source": [
    "time_idx = 20\n",
    "x_render = mpc.trajectory_nominal[time_idx].squeeze()\n",
    "\n",
    "# Rendering\n",
    "rendering_env = CartPoleRendering()\n",
    "rendering_env.render(x_render)"
   ]
  },
  {
   "cell_type": "code",
   "execution_count": null,
   "metadata": {},
   "outputs": [],
   "source": [
    "# Close renderer\n",
    "rendering_env.close()"
   ]
  }
 ],
 "metadata": {
  "interpreter": {
   "hash": "916dbcbb3f70747c44a77c7bcd40155683ae19c65e1c03b4aa3499c5328201f1"
  },
  "kernelspec": {
   "display_name": "Python 3.10.4 64-bit",
   "language": "python",
   "name": "python3"
  },
  "language_info": {
   "codemirror_mode": {
    "name": "ipython",
    "version": 3
   },
   "file_extension": ".py",
   "mimetype": "text/x-python",
   "name": "python",
   "nbconvert_exporter": "python",
   "pygments_lexer": "ipython3",
   "version": "3.10.4"
  },
  "orig_nbformat": 4
 },
 "nbformat": 4,
 "nbformat_minor": 2
}
